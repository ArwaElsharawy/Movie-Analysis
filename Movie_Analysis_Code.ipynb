{
  "nbformat": 4,
  "nbformat_minor": 0,
  "metadata": {
    "colab": {
      "provenance": []
    },
    "kernelspec": {
      "name": "python3",
      "display_name": "Python 3"
    },
    "language_info": {
      "name": "python"
    }
  },
  "cells": [
    {
      "cell_type": "code",
      "execution_count": null,
      "metadata": {
        "id": "GKoUzRwMFUP9"
      },
      "outputs": [],
      "source": [
        "import requests\n",
        "import pandas as pd\n",
        "import json\n",
        "from requests import Request, Session\n",
        "from requests.exceptions import ConnectionError, Timeout, TooManyRedirects\n",
        "import csv"
      ]
    },
    {
      "cell_type": "code",
      "source": [
        "csv_file_path = 'Movies title.csv'\n",
        "\n",
        "with open(csv_file_path, 'r') as file:\n",
        "    csv_reader = csv.reader(file)\n",
        "    data_list = []\n",
        "    for row in csv_reader:\n",
        "        data_list.append(row)\n",
        "del data_list[0]"
      ],
      "metadata": {
        "id": "ZYwDEw2qt3FS"
      },
      "execution_count": null,
      "outputs": []
    },
    {
      "cell_type": "code",
      "source": [
        "data_movies=[]\n",
        "for row in data_list:\n",
        "\n",
        "  url = f' http://www.omdbapi.com/?t={row}&apikey=4509890'\n",
        "  headers = {\n",
        "  'Accepts': 'application/json',\n",
        "  'X-CMC_PRO_API_KEY': '4509890',\n",
        "  }\n",
        "\n",
        "  session = Session()\n",
        "\n",
        "  try:\n",
        "     response = session.get(url,headers=headers)\n",
        "     data = json.loads(response.text)\n",
        "     data_movies.append(data)\n",
        "  except (ConnectionError, Timeout, TooManyRedirects) as e:\n",
        "     print(e)"
      ],
      "metadata": {
        "id": "XGfLwsXRbOYL"
      },
      "execution_count": null,
      "outputs": []
    },
    {
      "cell_type": "code",
      "source": [
        "Movies=pd.DataFrame(data_movies)\n",
        "Movies['Released'] = pd.to_datetime(Movies['Released'])\n",
        "Movies['day'] = Movies['Released'].dt.day\n",
        "Movies['month'] = Movies['Released'].dt.month\n",
        "Movies['year'] = Movies['Released'].dt.year"
      ],
      "metadata": {
        "id": "d5APVV94e5fZ"
      },
      "execution_count": null,
      "outputs": []
    },
    {
      "cell_type": "code",
      "source": [
        "Movies=Movies.drop([\"Poster\", \"DVD\", \"Type\", \"Awards\" , \"Ratings\" , \"totalSeasons\" , \"Response\",\n",
        "\"Error\" , \"Website\" , \"Production\",\"Year\",\"Released\"], axis=1)\n",
        "Movies.to_csv(\"MoviesData.csv\")"
      ],
      "metadata": {
        "id": "9op00VvkQyja"
      },
      "execution_count": null,
      "outputs": []
    },
    {
      "cell_type": "code",
      "source": [
        "Movies.dropna(axis=0,inplace=True)"
      ],
      "metadata": {
        "id": "4TTHKnZPt2yz"
      },
      "execution_count": null,
      "outputs": []
    },
    {
      "cell_type": "code",
      "source": [
        "Movies.isnull().sum()"
      ],
      "metadata": {
        "id": "1c1ztiJCuBdR",
        "colab": {
          "base_uri": "https://localhost:8080/"
        },
        "outputId": "461786e1-1576-42fc-c192-e58aec2e57fd"
      },
      "execution_count": null,
      "outputs": [
        {
          "output_type": "execute_result",
          "data": {
            "text/plain": [
              "Title         0\n",
              "Rated         0\n",
              "Runtime       0\n",
              "Genre         0\n",
              "Director      0\n",
              "Writer        0\n",
              "Actors        0\n",
              "Plot          0\n",
              "Language      0\n",
              "Country       0\n",
              "Metascore     0\n",
              "imdbRating    0\n",
              "imdbVotes     0\n",
              "imdbID        0\n",
              "BoxOffice     0\n",
              "day           0\n",
              "month         0\n",
              "year          0\n",
              "dtype: int64"
            ]
          },
          "metadata": {},
          "execution_count": 67
        }
      ]
    },
    {
      "cell_type": "code",
      "source": [
        "Movies.dtypes"
      ],
      "metadata": {
        "id": "_aBhs58GuGrj",
        "colab": {
          "base_uri": "https://localhost:8080/"
        },
        "outputId": "d8cd2245-7d72-482d-e6c5-10e67e2358c6"
      },
      "execution_count": null,
      "outputs": [
        {
          "output_type": "execute_result",
          "data": {
            "text/plain": [
              "Title          object\n",
              "Rated          object\n",
              "Runtime        object\n",
              "Genre          object\n",
              "Director       object\n",
              "Writer         object\n",
              "Actors         object\n",
              "Plot           object\n",
              "Language       object\n",
              "Country        object\n",
              "Metascore      object\n",
              "imdbRating     object\n",
              "imdbVotes      object\n",
              "imdbID         object\n",
              "BoxOffice      object\n",
              "day           float64\n",
              "month         float64\n",
              "year          float64\n",
              "dtype: object"
            ]
          },
          "metadata": {},
          "execution_count": 68
        }
      ]
    },
    {
      "cell_type": "code",
      "source": [
        "Movies[\"Runtime\"]=Movies[\"Runtime\"].apply(lambda x:int(x.replace(\"min\",\" \")))"
      ],
      "metadata": {
        "id": "3HcgYKtduLpM"
      },
      "execution_count": null,
      "outputs": []
    },
    {
      "cell_type": "code",
      "source": [
        "Movies.head()"
      ],
      "metadata": {
        "id": "SCfQh5fDucKR",
        "colab": {
          "base_uri": "https://localhost:8080/",
          "height": 625
        },
        "outputId": "17b5eb25-9952-4b34-c8a1-b0e44bf2aee9"
      },
      "execution_count": null,
      "outputs": [
        {
          "output_type": "execute_result",
          "data": {
            "text/plain": [
              "                     Title  Rated  Runtime                       Genre  \\\n",
              "0  Guardians of the Galaxy  PG-13      121   Action, Adventure, Comedy   \n",
              "1               Prometheus      R      124  Adventure, Mystery, Sci-Fi   \n",
              "2                    Split  PG-13      117            Horror, Thriller   \n",
              "3                     Sing     PG      108   Animation, Comedy, Family   \n",
              "4            Suicide Squad  PG-13      123  Action, Adventure, Fantasy   \n",
              "\n",
              "                               Director  \\\n",
              "0                            James Gunn   \n",
              "1                          Ridley Scott   \n",
              "2                    M. Night Shyamalan   \n",
              "3  Garth Jennings, Christophe Lourdelet   \n",
              "4                            David Ayer   \n",
              "\n",
              "                                      Writer  \\\n",
              "0     James Gunn, Nicole Perlman, Dan Abnett   \n",
              "1  Jon Spaihts, Damon Lindelof, Dan O'Bannon   \n",
              "2                         M. Night Shyamalan   \n",
              "3                             Garth Jennings   \n",
              "4                 David Ayer, John Ostrander   \n",
              "\n",
              "                                              Actors  \\\n",
              "0            Chris Pratt, Vin Diesel, Bradley Cooper   \n",
              "1  Noomi Rapace, Logan Marshall-Green, Michael Fa...   \n",
              "2  James McAvoy, Anya Taylor-Joy, Haley Lu Richar...   \n",
              "3  Matthew McConaughey, Reese Witherspoon, Seth M...   \n",
              "4              Will Smith, Jared Leto, Margot Robbie   \n",
              "\n",
              "                                                Plot  \\\n",
              "0  A group of intergalactic criminals must pull t...   \n",
              "1  Following clues to the origin of mankind, a te...   \n",
              "2  Three girls are kidnapped by a man with a diag...   \n",
              "3  In a city of humanoid animals, a hustling thea...   \n",
              "4  A secret government agency recruits some of th...   \n",
              "\n",
              "                     Language                        Country Metascore  \\\n",
              "0                     English                  United States        76   \n",
              "1             English, Gaelic  United Kingdom, United States        64   \n",
              "2                     English           United States, Japan        63   \n",
              "3           English, Japanese   Japan, United States, France        59   \n",
              "4  English, Japanese, Spanish                  United States        40   \n",
              "\n",
              "  imdbRating  imdbVotes     imdbID     BoxOffice   day  month    year  \n",
              "0        8.0  1,233,785  tt2015381  $333,718,600   1.0    8.0  2014.0  \n",
              "1        7.0    626,784  tt1446714  $126,477,084   8.0    6.0  2012.0  \n",
              "2        7.3    526,718  tt4972582  $138,291,365  20.0    1.0  2017.0  \n",
              "3        7.1    181,456  tt3470600  $270,578,425  21.0   12.0  2016.0  \n",
              "4        5.9    706,414  tt1386697  $325,100,054   5.0    8.0  2016.0  "
            ],
            "text/html": [
              "\n",
              "  <div id=\"df-1594ea42-ac6f-44d2-823f-de323948d895\" class=\"colab-df-container\">\n",
              "    <div>\n",
              "<style scoped>\n",
              "    .dataframe tbody tr th:only-of-type {\n",
              "        vertical-align: middle;\n",
              "    }\n",
              "\n",
              "    .dataframe tbody tr th {\n",
              "        vertical-align: top;\n",
              "    }\n",
              "\n",
              "    .dataframe thead th {\n",
              "        text-align: right;\n",
              "    }\n",
              "</style>\n",
              "<table border=\"1\" class=\"dataframe\">\n",
              "  <thead>\n",
              "    <tr style=\"text-align: right;\">\n",
              "      <th></th>\n",
              "      <th>Title</th>\n",
              "      <th>Rated</th>\n",
              "      <th>Runtime</th>\n",
              "      <th>Genre</th>\n",
              "      <th>Director</th>\n",
              "      <th>Writer</th>\n",
              "      <th>Actors</th>\n",
              "      <th>Plot</th>\n",
              "      <th>Language</th>\n",
              "      <th>Country</th>\n",
              "      <th>Metascore</th>\n",
              "      <th>imdbRating</th>\n",
              "      <th>imdbVotes</th>\n",
              "      <th>imdbID</th>\n",
              "      <th>BoxOffice</th>\n",
              "      <th>day</th>\n",
              "      <th>month</th>\n",
              "      <th>year</th>\n",
              "    </tr>\n",
              "  </thead>\n",
              "  <tbody>\n",
              "    <tr>\n",
              "      <th>0</th>\n",
              "      <td>Guardians of the Galaxy</td>\n",
              "      <td>PG-13</td>\n",
              "      <td>121</td>\n",
              "      <td>Action, Adventure, Comedy</td>\n",
              "      <td>James Gunn</td>\n",
              "      <td>James Gunn, Nicole Perlman, Dan Abnett</td>\n",
              "      <td>Chris Pratt, Vin Diesel, Bradley Cooper</td>\n",
              "      <td>A group of intergalactic criminals must pull t...</td>\n",
              "      <td>English</td>\n",
              "      <td>United States</td>\n",
              "      <td>76</td>\n",
              "      <td>8.0</td>\n",
              "      <td>1,233,785</td>\n",
              "      <td>tt2015381</td>\n",
              "      <td>$333,718,600</td>\n",
              "      <td>1.0</td>\n",
              "      <td>8.0</td>\n",
              "      <td>2014.0</td>\n",
              "    </tr>\n",
              "    <tr>\n",
              "      <th>1</th>\n",
              "      <td>Prometheus</td>\n",
              "      <td>R</td>\n",
              "      <td>124</td>\n",
              "      <td>Adventure, Mystery, Sci-Fi</td>\n",
              "      <td>Ridley Scott</td>\n",
              "      <td>Jon Spaihts, Damon Lindelof, Dan O'Bannon</td>\n",
              "      <td>Noomi Rapace, Logan Marshall-Green, Michael Fa...</td>\n",
              "      <td>Following clues to the origin of mankind, a te...</td>\n",
              "      <td>English, Gaelic</td>\n",
              "      <td>United Kingdom, United States</td>\n",
              "      <td>64</td>\n",
              "      <td>7.0</td>\n",
              "      <td>626,784</td>\n",
              "      <td>tt1446714</td>\n",
              "      <td>$126,477,084</td>\n",
              "      <td>8.0</td>\n",
              "      <td>6.0</td>\n",
              "      <td>2012.0</td>\n",
              "    </tr>\n",
              "    <tr>\n",
              "      <th>2</th>\n",
              "      <td>Split</td>\n",
              "      <td>PG-13</td>\n",
              "      <td>117</td>\n",
              "      <td>Horror, Thriller</td>\n",
              "      <td>M. Night Shyamalan</td>\n",
              "      <td>M. Night Shyamalan</td>\n",
              "      <td>James McAvoy, Anya Taylor-Joy, Haley Lu Richar...</td>\n",
              "      <td>Three girls are kidnapped by a man with a diag...</td>\n",
              "      <td>English</td>\n",
              "      <td>United States, Japan</td>\n",
              "      <td>63</td>\n",
              "      <td>7.3</td>\n",
              "      <td>526,718</td>\n",
              "      <td>tt4972582</td>\n",
              "      <td>$138,291,365</td>\n",
              "      <td>20.0</td>\n",
              "      <td>1.0</td>\n",
              "      <td>2017.0</td>\n",
              "    </tr>\n",
              "    <tr>\n",
              "      <th>3</th>\n",
              "      <td>Sing</td>\n",
              "      <td>PG</td>\n",
              "      <td>108</td>\n",
              "      <td>Animation, Comedy, Family</td>\n",
              "      <td>Garth Jennings, Christophe Lourdelet</td>\n",
              "      <td>Garth Jennings</td>\n",
              "      <td>Matthew McConaughey, Reese Witherspoon, Seth M...</td>\n",
              "      <td>In a city of humanoid animals, a hustling thea...</td>\n",
              "      <td>English, Japanese</td>\n",
              "      <td>Japan, United States, France</td>\n",
              "      <td>59</td>\n",
              "      <td>7.1</td>\n",
              "      <td>181,456</td>\n",
              "      <td>tt3470600</td>\n",
              "      <td>$270,578,425</td>\n",
              "      <td>21.0</td>\n",
              "      <td>12.0</td>\n",
              "      <td>2016.0</td>\n",
              "    </tr>\n",
              "    <tr>\n",
              "      <th>4</th>\n",
              "      <td>Suicide Squad</td>\n",
              "      <td>PG-13</td>\n",
              "      <td>123</td>\n",
              "      <td>Action, Adventure, Fantasy</td>\n",
              "      <td>David Ayer</td>\n",
              "      <td>David Ayer, John Ostrander</td>\n",
              "      <td>Will Smith, Jared Leto, Margot Robbie</td>\n",
              "      <td>A secret government agency recruits some of th...</td>\n",
              "      <td>English, Japanese, Spanish</td>\n",
              "      <td>United States</td>\n",
              "      <td>40</td>\n",
              "      <td>5.9</td>\n",
              "      <td>706,414</td>\n",
              "      <td>tt1386697</td>\n",
              "      <td>$325,100,054</td>\n",
              "      <td>5.0</td>\n",
              "      <td>8.0</td>\n",
              "      <td>2016.0</td>\n",
              "    </tr>\n",
              "  </tbody>\n",
              "</table>\n",
              "</div>\n",
              "    <div class=\"colab-df-buttons\">\n",
              "\n",
              "  <div class=\"colab-df-container\">\n",
              "    <button class=\"colab-df-convert\" onclick=\"convertToInteractive('df-1594ea42-ac6f-44d2-823f-de323948d895')\"\n",
              "            title=\"Convert this dataframe to an interactive table.\"\n",
              "            style=\"display:none;\">\n",
              "\n",
              "  <svg xmlns=\"http://www.w3.org/2000/svg\" height=\"24px\" viewBox=\"0 -960 960 960\">\n",
              "    <path d=\"M120-120v-720h720v720H120Zm60-500h600v-160H180v160Zm220 220h160v-160H400v160Zm0 220h160v-160H400v160ZM180-400h160v-160H180v160Zm440 0h160v-160H620v160ZM180-180h160v-160H180v160Zm440 0h160v-160H620v160Z\"/>\n",
              "  </svg>\n",
              "    </button>\n",
              "\n",
              "  <style>\n",
              "    .colab-df-container {\n",
              "      display:flex;\n",
              "      gap: 12px;\n",
              "    }\n",
              "\n",
              "    .colab-df-convert {\n",
              "      background-color: #E8F0FE;\n",
              "      border: none;\n",
              "      border-radius: 50%;\n",
              "      cursor: pointer;\n",
              "      display: none;\n",
              "      fill: #1967D2;\n",
              "      height: 32px;\n",
              "      padding: 0 0 0 0;\n",
              "      width: 32px;\n",
              "    }\n",
              "\n",
              "    .colab-df-convert:hover {\n",
              "      background-color: #E2EBFA;\n",
              "      box-shadow: 0px 1px 2px rgba(60, 64, 67, 0.3), 0px 1px 3px 1px rgba(60, 64, 67, 0.15);\n",
              "      fill: #174EA6;\n",
              "    }\n",
              "\n",
              "    .colab-df-buttons div {\n",
              "      margin-bottom: 4px;\n",
              "    }\n",
              "\n",
              "    [theme=dark] .colab-df-convert {\n",
              "      background-color: #3B4455;\n",
              "      fill: #D2E3FC;\n",
              "    }\n",
              "\n",
              "    [theme=dark] .colab-df-convert:hover {\n",
              "      background-color: #434B5C;\n",
              "      box-shadow: 0px 1px 3px 1px rgba(0, 0, 0, 0.15);\n",
              "      filter: drop-shadow(0px 1px 2px rgba(0, 0, 0, 0.3));\n",
              "      fill: #FFFFFF;\n",
              "    }\n",
              "  </style>\n",
              "\n",
              "    <script>\n",
              "      const buttonEl =\n",
              "        document.querySelector('#df-1594ea42-ac6f-44d2-823f-de323948d895 button.colab-df-convert');\n",
              "      buttonEl.style.display =\n",
              "        google.colab.kernel.accessAllowed ? 'block' : 'none';\n",
              "\n",
              "      async function convertToInteractive(key) {\n",
              "        const element = document.querySelector('#df-1594ea42-ac6f-44d2-823f-de323948d895');\n",
              "        const dataTable =\n",
              "          await google.colab.kernel.invokeFunction('convertToInteractive',\n",
              "                                                    [key], {});\n",
              "        if (!dataTable) return;\n",
              "\n",
              "        const docLinkHtml = 'Like what you see? Visit the ' +\n",
              "          '<a target=\"_blank\" href=https://colab.research.google.com/notebooks/data_table.ipynb>data table notebook</a>'\n",
              "          + ' to learn more about interactive tables.';\n",
              "        element.innerHTML = '';\n",
              "        dataTable['output_type'] = 'display_data';\n",
              "        await google.colab.output.renderOutput(dataTable, element);\n",
              "        const docLink = document.createElement('div');\n",
              "        docLink.innerHTML = docLinkHtml;\n",
              "        element.appendChild(docLink);\n",
              "      }\n",
              "    </script>\n",
              "  </div>\n",
              "\n",
              "\n",
              "<div id=\"df-fba03699-d914-4913-8e26-97dd53b5305c\">\n",
              "  <button class=\"colab-df-quickchart\" onclick=\"quickchart('df-fba03699-d914-4913-8e26-97dd53b5305c')\"\n",
              "            title=\"Suggest charts.\"\n",
              "            style=\"display:none;\">\n",
              "\n",
              "<svg xmlns=\"http://www.w3.org/2000/svg\" height=\"24px\"viewBox=\"0 0 24 24\"\n",
              "     width=\"24px\">\n",
              "    <g>\n",
              "        <path d=\"M19 3H5c-1.1 0-2 .9-2 2v14c0 1.1.9 2 2 2h14c1.1 0 2-.9 2-2V5c0-1.1-.9-2-2-2zM9 17H7v-7h2v7zm4 0h-2V7h2v10zm4 0h-2v-4h2v4z\"/>\n",
              "    </g>\n",
              "</svg>\n",
              "  </button>\n",
              "\n",
              "<style>\n",
              "  .colab-df-quickchart {\n",
              "      --bg-color: #E8F0FE;\n",
              "      --fill-color: #1967D2;\n",
              "      --hover-bg-color: #E2EBFA;\n",
              "      --hover-fill-color: #174EA6;\n",
              "      --disabled-fill-color: #AAA;\n",
              "      --disabled-bg-color: #DDD;\n",
              "  }\n",
              "\n",
              "  [theme=dark] .colab-df-quickchart {\n",
              "      --bg-color: #3B4455;\n",
              "      --fill-color: #D2E3FC;\n",
              "      --hover-bg-color: #434B5C;\n",
              "      --hover-fill-color: #FFFFFF;\n",
              "      --disabled-bg-color: #3B4455;\n",
              "      --disabled-fill-color: #666;\n",
              "  }\n",
              "\n",
              "  .colab-df-quickchart {\n",
              "    background-color: var(--bg-color);\n",
              "    border: none;\n",
              "    border-radius: 50%;\n",
              "    cursor: pointer;\n",
              "    display: none;\n",
              "    fill: var(--fill-color);\n",
              "    height: 32px;\n",
              "    padding: 0;\n",
              "    width: 32px;\n",
              "  }\n",
              "\n",
              "  .colab-df-quickchart:hover {\n",
              "    background-color: var(--hover-bg-color);\n",
              "    box-shadow: 0 1px 2px rgba(60, 64, 67, 0.3), 0 1px 3px 1px rgba(60, 64, 67, 0.15);\n",
              "    fill: var(--button-hover-fill-color);\n",
              "  }\n",
              "\n",
              "  .colab-df-quickchart-complete:disabled,\n",
              "  .colab-df-quickchart-complete:disabled:hover {\n",
              "    background-color: var(--disabled-bg-color);\n",
              "    fill: var(--disabled-fill-color);\n",
              "    box-shadow: none;\n",
              "  }\n",
              "\n",
              "  .colab-df-spinner {\n",
              "    border: 2px solid var(--fill-color);\n",
              "    border-color: transparent;\n",
              "    border-bottom-color: var(--fill-color);\n",
              "    animation:\n",
              "      spin 1s steps(1) infinite;\n",
              "  }\n",
              "\n",
              "  @keyframes spin {\n",
              "    0% {\n",
              "      border-color: transparent;\n",
              "      border-bottom-color: var(--fill-color);\n",
              "      border-left-color: var(--fill-color);\n",
              "    }\n",
              "    20% {\n",
              "      border-color: transparent;\n",
              "      border-left-color: var(--fill-color);\n",
              "      border-top-color: var(--fill-color);\n",
              "    }\n",
              "    30% {\n",
              "      border-color: transparent;\n",
              "      border-left-color: var(--fill-color);\n",
              "      border-top-color: var(--fill-color);\n",
              "      border-right-color: var(--fill-color);\n",
              "    }\n",
              "    40% {\n",
              "      border-color: transparent;\n",
              "      border-right-color: var(--fill-color);\n",
              "      border-top-color: var(--fill-color);\n",
              "    }\n",
              "    60% {\n",
              "      border-color: transparent;\n",
              "      border-right-color: var(--fill-color);\n",
              "    }\n",
              "    80% {\n",
              "      border-color: transparent;\n",
              "      border-right-color: var(--fill-color);\n",
              "      border-bottom-color: var(--fill-color);\n",
              "    }\n",
              "    90% {\n",
              "      border-color: transparent;\n",
              "      border-bottom-color: var(--fill-color);\n",
              "    }\n",
              "  }\n",
              "</style>\n",
              "\n",
              "  <script>\n",
              "    async function quickchart(key) {\n",
              "      const quickchartButtonEl =\n",
              "        document.querySelector('#' + key + ' button');\n",
              "      quickchartButtonEl.disabled = true;  // To prevent multiple clicks.\n",
              "      quickchartButtonEl.classList.add('colab-df-spinner');\n",
              "      try {\n",
              "        const charts = await google.colab.kernel.invokeFunction(\n",
              "            'suggestCharts', [key], {});\n",
              "      } catch (error) {\n",
              "        console.error('Error during call to suggestCharts:', error);\n",
              "      }\n",
              "      quickchartButtonEl.classList.remove('colab-df-spinner');\n",
              "      quickchartButtonEl.classList.add('colab-df-quickchart-complete');\n",
              "    }\n",
              "    (() => {\n",
              "      let quickchartButtonEl =\n",
              "        document.querySelector('#df-fba03699-d914-4913-8e26-97dd53b5305c button');\n",
              "      quickchartButtonEl.style.display =\n",
              "        google.colab.kernel.accessAllowed ? 'block' : 'none';\n",
              "    })();\n",
              "  </script>\n",
              "</div>\n",
              "    </div>\n",
              "  </div>\n"
            ]
          },
          "metadata": {},
          "execution_count": 70
        }
      ]
    },
    {
      "cell_type": "code",
      "source": [
        "Movies.dtypes"
      ],
      "metadata": {
        "id": "EnQVqyohu_1E",
        "colab": {
          "base_uri": "https://localhost:8080/"
        },
        "outputId": "381ea4da-4076-4ca2-d201-ce326aeb1be7"
      },
      "execution_count": null,
      "outputs": [
        {
          "output_type": "execute_result",
          "data": {
            "text/plain": [
              "Title          object\n",
              "Rated          object\n",
              "Runtime         int64\n",
              "Genre          object\n",
              "Director       object\n",
              "Writer         object\n",
              "Actors         object\n",
              "Plot           object\n",
              "Language       object\n",
              "Country        object\n",
              "Metascore       int64\n",
              "imdbRating    float64\n",
              "imdbVotes       int64\n",
              "imdbID         object\n",
              "BoxOffice       int64\n",
              "day             int64\n",
              "month           int64\n",
              "year            int64\n",
              "dtype: object"
            ]
          },
          "metadata": {},
          "execution_count": 101
        }
      ]
    },
    {
      "cell_type": "code",
      "source": [
        "Movies['day']=Movies['day'].astype(int)"
      ],
      "metadata": {
        "id": "Jr92Twp2vFHk"
      },
      "execution_count": null,
      "outputs": []
    },
    {
      "cell_type": "code",
      "source": [
        "Movies['year']=Movies['year'].astype(int)"
      ],
      "metadata": {
        "id": "EjOUt9D9v4cs"
      },
      "execution_count": null,
      "outputs": []
    },
    {
      "cell_type": "code",
      "source": [
        "Movies['month']=Movies['month'].astype(int)"
      ],
      "metadata": {
        "id": "UchbgR7Pv_QM"
      },
      "execution_count": null,
      "outputs": []
    },
    {
      "cell_type": "code",
      "source": [
        "Movies.head()"
      ],
      "metadata": {
        "id": "lsZ94dIXwHGk",
        "colab": {
          "base_uri": "https://localhost:8080/",
          "height": 625
        },
        "outputId": "696792e8-cf9b-4bc5-fe05-743bdfa7b978"
      },
      "execution_count": null,
      "outputs": [
        {
          "output_type": "execute_result",
          "data": {
            "text/plain": [
              "                     Title  Rated  Runtime                       Genre  \\\n",
              "0  Guardians of the Galaxy  PG-13      121   Action, Adventure, Comedy   \n",
              "1               Prometheus      R      124  Adventure, Mystery, Sci-Fi   \n",
              "2                    Split  PG-13      117            Horror, Thriller   \n",
              "3                     Sing     PG      108   Animation, Comedy, Family   \n",
              "4            Suicide Squad  PG-13      123  Action, Adventure, Fantasy   \n",
              "\n",
              "                               Director  \\\n",
              "0                            James Gunn   \n",
              "1                          Ridley Scott   \n",
              "2                    M. Night Shyamalan   \n",
              "3  Garth Jennings, Christophe Lourdelet   \n",
              "4                            David Ayer   \n",
              "\n",
              "                                      Writer  \\\n",
              "0     James Gunn, Nicole Perlman, Dan Abnett   \n",
              "1  Jon Spaihts, Damon Lindelof, Dan O'Bannon   \n",
              "2                         M. Night Shyamalan   \n",
              "3                             Garth Jennings   \n",
              "4                 David Ayer, John Ostrander   \n",
              "\n",
              "                                              Actors  \\\n",
              "0            Chris Pratt, Vin Diesel, Bradley Cooper   \n",
              "1  Noomi Rapace, Logan Marshall-Green, Michael Fa...   \n",
              "2  James McAvoy, Anya Taylor-Joy, Haley Lu Richar...   \n",
              "3  Matthew McConaughey, Reese Witherspoon, Seth M...   \n",
              "4              Will Smith, Jared Leto, Margot Robbie   \n",
              "\n",
              "                                                Plot  \\\n",
              "0  A group of intergalactic criminals must pull t...   \n",
              "1  Following clues to the origin of mankind, a te...   \n",
              "2  Three girls are kidnapped by a man with a diag...   \n",
              "3  In a city of humanoid animals, a hustling thea...   \n",
              "4  A secret government agency recruits some of th...   \n",
              "\n",
              "                     Language                        Country Metascore  \\\n",
              "0                     English                  United States        76   \n",
              "1             English, Gaelic  United Kingdom, United States        64   \n",
              "2                     English           United States, Japan        63   \n",
              "3           English, Japanese   Japan, United States, France        59   \n",
              "4  English, Japanese, Spanish                  United States        40   \n",
              "\n",
              "  imdbRating  imdbVotes     imdbID     BoxOffice  day  month  year  \n",
              "0        8.0  1,233,785  tt2015381  $333,718,600    1      8  2014  \n",
              "1        7.0    626,784  tt1446714  $126,477,084    8      6  2012  \n",
              "2        7.3    526,718  tt4972582  $138,291,365   20      1  2017  \n",
              "3        7.1    181,456  tt3470600  $270,578,425   21     12  2016  \n",
              "4        5.9    706,414  tt1386697  $325,100,054    5      8  2016  "
            ],
            "text/html": [
              "\n",
              "  <div id=\"df-64d25144-bbee-4767-a8f8-18bb2451cbd3\" class=\"colab-df-container\">\n",
              "    <div>\n",
              "<style scoped>\n",
              "    .dataframe tbody tr th:only-of-type {\n",
              "        vertical-align: middle;\n",
              "    }\n",
              "\n",
              "    .dataframe tbody tr th {\n",
              "        vertical-align: top;\n",
              "    }\n",
              "\n",
              "    .dataframe thead th {\n",
              "        text-align: right;\n",
              "    }\n",
              "</style>\n",
              "<table border=\"1\" class=\"dataframe\">\n",
              "  <thead>\n",
              "    <tr style=\"text-align: right;\">\n",
              "      <th></th>\n",
              "      <th>Title</th>\n",
              "      <th>Rated</th>\n",
              "      <th>Runtime</th>\n",
              "      <th>Genre</th>\n",
              "      <th>Director</th>\n",
              "      <th>Writer</th>\n",
              "      <th>Actors</th>\n",
              "      <th>Plot</th>\n",
              "      <th>Language</th>\n",
              "      <th>Country</th>\n",
              "      <th>Metascore</th>\n",
              "      <th>imdbRating</th>\n",
              "      <th>imdbVotes</th>\n",
              "      <th>imdbID</th>\n",
              "      <th>BoxOffice</th>\n",
              "      <th>day</th>\n",
              "      <th>month</th>\n",
              "      <th>year</th>\n",
              "    </tr>\n",
              "  </thead>\n",
              "  <tbody>\n",
              "    <tr>\n",
              "      <th>0</th>\n",
              "      <td>Guardians of the Galaxy</td>\n",
              "      <td>PG-13</td>\n",
              "      <td>121</td>\n",
              "      <td>Action, Adventure, Comedy</td>\n",
              "      <td>James Gunn</td>\n",
              "      <td>James Gunn, Nicole Perlman, Dan Abnett</td>\n",
              "      <td>Chris Pratt, Vin Diesel, Bradley Cooper</td>\n",
              "      <td>A group of intergalactic criminals must pull t...</td>\n",
              "      <td>English</td>\n",
              "      <td>United States</td>\n",
              "      <td>76</td>\n",
              "      <td>8.0</td>\n",
              "      <td>1,233,785</td>\n",
              "      <td>tt2015381</td>\n",
              "      <td>$333,718,600</td>\n",
              "      <td>1</td>\n",
              "      <td>8</td>\n",
              "      <td>2014</td>\n",
              "    </tr>\n",
              "    <tr>\n",
              "      <th>1</th>\n",
              "      <td>Prometheus</td>\n",
              "      <td>R</td>\n",
              "      <td>124</td>\n",
              "      <td>Adventure, Mystery, Sci-Fi</td>\n",
              "      <td>Ridley Scott</td>\n",
              "      <td>Jon Spaihts, Damon Lindelof, Dan O'Bannon</td>\n",
              "      <td>Noomi Rapace, Logan Marshall-Green, Michael Fa...</td>\n",
              "      <td>Following clues to the origin of mankind, a te...</td>\n",
              "      <td>English, Gaelic</td>\n",
              "      <td>United Kingdom, United States</td>\n",
              "      <td>64</td>\n",
              "      <td>7.0</td>\n",
              "      <td>626,784</td>\n",
              "      <td>tt1446714</td>\n",
              "      <td>$126,477,084</td>\n",
              "      <td>8</td>\n",
              "      <td>6</td>\n",
              "      <td>2012</td>\n",
              "    </tr>\n",
              "    <tr>\n",
              "      <th>2</th>\n",
              "      <td>Split</td>\n",
              "      <td>PG-13</td>\n",
              "      <td>117</td>\n",
              "      <td>Horror, Thriller</td>\n",
              "      <td>M. Night Shyamalan</td>\n",
              "      <td>M. Night Shyamalan</td>\n",
              "      <td>James McAvoy, Anya Taylor-Joy, Haley Lu Richar...</td>\n",
              "      <td>Three girls are kidnapped by a man with a diag...</td>\n",
              "      <td>English</td>\n",
              "      <td>United States, Japan</td>\n",
              "      <td>63</td>\n",
              "      <td>7.3</td>\n",
              "      <td>526,718</td>\n",
              "      <td>tt4972582</td>\n",
              "      <td>$138,291,365</td>\n",
              "      <td>20</td>\n",
              "      <td>1</td>\n",
              "      <td>2017</td>\n",
              "    </tr>\n",
              "    <tr>\n",
              "      <th>3</th>\n",
              "      <td>Sing</td>\n",
              "      <td>PG</td>\n",
              "      <td>108</td>\n",
              "      <td>Animation, Comedy, Family</td>\n",
              "      <td>Garth Jennings, Christophe Lourdelet</td>\n",
              "      <td>Garth Jennings</td>\n",
              "      <td>Matthew McConaughey, Reese Witherspoon, Seth M...</td>\n",
              "      <td>In a city of humanoid animals, a hustling thea...</td>\n",
              "      <td>English, Japanese</td>\n",
              "      <td>Japan, United States, France</td>\n",
              "      <td>59</td>\n",
              "      <td>7.1</td>\n",
              "      <td>181,456</td>\n",
              "      <td>tt3470600</td>\n",
              "      <td>$270,578,425</td>\n",
              "      <td>21</td>\n",
              "      <td>12</td>\n",
              "      <td>2016</td>\n",
              "    </tr>\n",
              "    <tr>\n",
              "      <th>4</th>\n",
              "      <td>Suicide Squad</td>\n",
              "      <td>PG-13</td>\n",
              "      <td>123</td>\n",
              "      <td>Action, Adventure, Fantasy</td>\n",
              "      <td>David Ayer</td>\n",
              "      <td>David Ayer, John Ostrander</td>\n",
              "      <td>Will Smith, Jared Leto, Margot Robbie</td>\n",
              "      <td>A secret government agency recruits some of th...</td>\n",
              "      <td>English, Japanese, Spanish</td>\n",
              "      <td>United States</td>\n",
              "      <td>40</td>\n",
              "      <td>5.9</td>\n",
              "      <td>706,414</td>\n",
              "      <td>tt1386697</td>\n",
              "      <td>$325,100,054</td>\n",
              "      <td>5</td>\n",
              "      <td>8</td>\n",
              "      <td>2016</td>\n",
              "    </tr>\n",
              "  </tbody>\n",
              "</table>\n",
              "</div>\n",
              "    <div class=\"colab-df-buttons\">\n",
              "\n",
              "  <div class=\"colab-df-container\">\n",
              "    <button class=\"colab-df-convert\" onclick=\"convertToInteractive('df-64d25144-bbee-4767-a8f8-18bb2451cbd3')\"\n",
              "            title=\"Convert this dataframe to an interactive table.\"\n",
              "            style=\"display:none;\">\n",
              "\n",
              "  <svg xmlns=\"http://www.w3.org/2000/svg\" height=\"24px\" viewBox=\"0 -960 960 960\">\n",
              "    <path d=\"M120-120v-720h720v720H120Zm60-500h600v-160H180v160Zm220 220h160v-160H400v160Zm0 220h160v-160H400v160ZM180-400h160v-160H180v160Zm440 0h160v-160H620v160ZM180-180h160v-160H180v160Zm440 0h160v-160H620v160Z\"/>\n",
              "  </svg>\n",
              "    </button>\n",
              "\n",
              "  <style>\n",
              "    .colab-df-container {\n",
              "      display:flex;\n",
              "      gap: 12px;\n",
              "    }\n",
              "\n",
              "    .colab-df-convert {\n",
              "      background-color: #E8F0FE;\n",
              "      border: none;\n",
              "      border-radius: 50%;\n",
              "      cursor: pointer;\n",
              "      display: none;\n",
              "      fill: #1967D2;\n",
              "      height: 32px;\n",
              "      padding: 0 0 0 0;\n",
              "      width: 32px;\n",
              "    }\n",
              "\n",
              "    .colab-df-convert:hover {\n",
              "      background-color: #E2EBFA;\n",
              "      box-shadow: 0px 1px 2px rgba(60, 64, 67, 0.3), 0px 1px 3px 1px rgba(60, 64, 67, 0.15);\n",
              "      fill: #174EA6;\n",
              "    }\n",
              "\n",
              "    .colab-df-buttons div {\n",
              "      margin-bottom: 4px;\n",
              "    }\n",
              "\n",
              "    [theme=dark] .colab-df-convert {\n",
              "      background-color: #3B4455;\n",
              "      fill: #D2E3FC;\n",
              "    }\n",
              "\n",
              "    [theme=dark] .colab-df-convert:hover {\n",
              "      background-color: #434B5C;\n",
              "      box-shadow: 0px 1px 3px 1px rgba(0, 0, 0, 0.15);\n",
              "      filter: drop-shadow(0px 1px 2px rgba(0, 0, 0, 0.3));\n",
              "      fill: #FFFFFF;\n",
              "    }\n",
              "  </style>\n",
              "\n",
              "    <script>\n",
              "      const buttonEl =\n",
              "        document.querySelector('#df-64d25144-bbee-4767-a8f8-18bb2451cbd3 button.colab-df-convert');\n",
              "      buttonEl.style.display =\n",
              "        google.colab.kernel.accessAllowed ? 'block' : 'none';\n",
              "\n",
              "      async function convertToInteractive(key) {\n",
              "        const element = document.querySelector('#df-64d25144-bbee-4767-a8f8-18bb2451cbd3');\n",
              "        const dataTable =\n",
              "          await google.colab.kernel.invokeFunction('convertToInteractive',\n",
              "                                                    [key], {});\n",
              "        if (!dataTable) return;\n",
              "\n",
              "        const docLinkHtml = 'Like what you see? Visit the ' +\n",
              "          '<a target=\"_blank\" href=https://colab.research.google.com/notebooks/data_table.ipynb>data table notebook</a>'\n",
              "          + ' to learn more about interactive tables.';\n",
              "        element.innerHTML = '';\n",
              "        dataTable['output_type'] = 'display_data';\n",
              "        await google.colab.output.renderOutput(dataTable, element);\n",
              "        const docLink = document.createElement('div');\n",
              "        docLink.innerHTML = docLinkHtml;\n",
              "        element.appendChild(docLink);\n",
              "      }\n",
              "    </script>\n",
              "  </div>\n",
              "\n",
              "\n",
              "<div id=\"df-ad29fb4b-9993-420f-becc-72d06b93637a\">\n",
              "  <button class=\"colab-df-quickchart\" onclick=\"quickchart('df-ad29fb4b-9993-420f-becc-72d06b93637a')\"\n",
              "            title=\"Suggest charts.\"\n",
              "            style=\"display:none;\">\n",
              "\n",
              "<svg xmlns=\"http://www.w3.org/2000/svg\" height=\"24px\"viewBox=\"0 0 24 24\"\n",
              "     width=\"24px\">\n",
              "    <g>\n",
              "        <path d=\"M19 3H5c-1.1 0-2 .9-2 2v14c0 1.1.9 2 2 2h14c1.1 0 2-.9 2-2V5c0-1.1-.9-2-2-2zM9 17H7v-7h2v7zm4 0h-2V7h2v10zm4 0h-2v-4h2v4z\"/>\n",
              "    </g>\n",
              "</svg>\n",
              "  </button>\n",
              "\n",
              "<style>\n",
              "  .colab-df-quickchart {\n",
              "      --bg-color: #E8F0FE;\n",
              "      --fill-color: #1967D2;\n",
              "      --hover-bg-color: #E2EBFA;\n",
              "      --hover-fill-color: #174EA6;\n",
              "      --disabled-fill-color: #AAA;\n",
              "      --disabled-bg-color: #DDD;\n",
              "  }\n",
              "\n",
              "  [theme=dark] .colab-df-quickchart {\n",
              "      --bg-color: #3B4455;\n",
              "      --fill-color: #D2E3FC;\n",
              "      --hover-bg-color: #434B5C;\n",
              "      --hover-fill-color: #FFFFFF;\n",
              "      --disabled-bg-color: #3B4455;\n",
              "      --disabled-fill-color: #666;\n",
              "  }\n",
              "\n",
              "  .colab-df-quickchart {\n",
              "    background-color: var(--bg-color);\n",
              "    border: none;\n",
              "    border-radius: 50%;\n",
              "    cursor: pointer;\n",
              "    display: none;\n",
              "    fill: var(--fill-color);\n",
              "    height: 32px;\n",
              "    padding: 0;\n",
              "    width: 32px;\n",
              "  }\n",
              "\n",
              "  .colab-df-quickchart:hover {\n",
              "    background-color: var(--hover-bg-color);\n",
              "    box-shadow: 0 1px 2px rgba(60, 64, 67, 0.3), 0 1px 3px 1px rgba(60, 64, 67, 0.15);\n",
              "    fill: var(--button-hover-fill-color);\n",
              "  }\n",
              "\n",
              "  .colab-df-quickchart-complete:disabled,\n",
              "  .colab-df-quickchart-complete:disabled:hover {\n",
              "    background-color: var(--disabled-bg-color);\n",
              "    fill: var(--disabled-fill-color);\n",
              "    box-shadow: none;\n",
              "  }\n",
              "\n",
              "  .colab-df-spinner {\n",
              "    border: 2px solid var(--fill-color);\n",
              "    border-color: transparent;\n",
              "    border-bottom-color: var(--fill-color);\n",
              "    animation:\n",
              "      spin 1s steps(1) infinite;\n",
              "  }\n",
              "\n",
              "  @keyframes spin {\n",
              "    0% {\n",
              "      border-color: transparent;\n",
              "      border-bottom-color: var(--fill-color);\n",
              "      border-left-color: var(--fill-color);\n",
              "    }\n",
              "    20% {\n",
              "      border-color: transparent;\n",
              "      border-left-color: var(--fill-color);\n",
              "      border-top-color: var(--fill-color);\n",
              "    }\n",
              "    30% {\n",
              "      border-color: transparent;\n",
              "      border-left-color: var(--fill-color);\n",
              "      border-top-color: var(--fill-color);\n",
              "      border-right-color: var(--fill-color);\n",
              "    }\n",
              "    40% {\n",
              "      border-color: transparent;\n",
              "      border-right-color: var(--fill-color);\n",
              "      border-top-color: var(--fill-color);\n",
              "    }\n",
              "    60% {\n",
              "      border-color: transparent;\n",
              "      border-right-color: var(--fill-color);\n",
              "    }\n",
              "    80% {\n",
              "      border-color: transparent;\n",
              "      border-right-color: var(--fill-color);\n",
              "      border-bottom-color: var(--fill-color);\n",
              "    }\n",
              "    90% {\n",
              "      border-color: transparent;\n",
              "      border-bottom-color: var(--fill-color);\n",
              "    }\n",
              "  }\n",
              "</style>\n",
              "\n",
              "  <script>\n",
              "    async function quickchart(key) {\n",
              "      const quickchartButtonEl =\n",
              "        document.querySelector('#' + key + ' button');\n",
              "      quickchartButtonEl.disabled = true;  // To prevent multiple clicks.\n",
              "      quickchartButtonEl.classList.add('colab-df-spinner');\n",
              "      try {\n",
              "        const charts = await google.colab.kernel.invokeFunction(\n",
              "            'suggestCharts', [key], {});\n",
              "      } catch (error) {\n",
              "        console.error('Error during call to suggestCharts:', error);\n",
              "      }\n",
              "      quickchartButtonEl.classList.remove('colab-df-spinner');\n",
              "      quickchartButtonEl.classList.add('colab-df-quickchart-complete');\n",
              "    }\n",
              "    (() => {\n",
              "      let quickchartButtonEl =\n",
              "        document.querySelector('#df-ad29fb4b-9993-420f-becc-72d06b93637a button');\n",
              "      quickchartButtonEl.style.display =\n",
              "        google.colab.kernel.accessAllowed ? 'block' : 'none';\n",
              "    })();\n",
              "  </script>\n",
              "</div>\n",
              "    </div>\n",
              "  </div>\n"
            ]
          },
          "metadata": {},
          "execution_count": 75
        }
      ]
    },
    {
      "cell_type": "code",
      "source": [
        "Movies[\"BoxOffice\"]=Movies[\"BoxOffice\"].apply(lambda x:str(x.split()[0].replace(\"$\",\"\")))"
      ],
      "metadata": {
        "id": "u6_owHiRw9q6"
      },
      "execution_count": null,
      "outputs": []
    },
    {
      "cell_type": "code",
      "source": [
        "Movies[\"BoxOffice\"]=Movies[\"BoxOffice\"].apply(lambda x:str(x.split()[0].replace('N/A',\"0\")))"
      ],
      "metadata": {
        "id": "YHKeMiOdyn9j"
      },
      "execution_count": null,
      "outputs": []
    },
    {
      "cell_type": "code",
      "source": [
        "Movies[\"BoxOffice\"]=Movies[\"BoxOffice\"].apply(lambda x:str(x.replace(',',\"\")))"
      ],
      "metadata": {
        "id": "1JLyAk2K2Hu_"
      },
      "execution_count": null,
      "outputs": []
    },
    {
      "cell_type": "code",
      "source": [
        "Movies[\"BoxOffice\"]"
      ],
      "metadata": {
        "id": "tO0rZnTg2N-9",
        "colab": {
          "base_uri": "https://localhost:8080/"
        },
        "outputId": "aa7a0884-3c29-4c4e-d77b-3c5257cc466b"
      },
      "execution_count": null,
      "outputs": [
        {
          "output_type": "execute_result",
          "data": {
            "text/plain": [
              "0     333718600\n",
              "1     126477084\n",
              "2     138291365\n",
              "3     270578425\n",
              "4     325100054\n",
              "        ...    \n",
              "93     43034523\n",
              "94    459005868\n",
              "95     36261763\n",
              "97       336467\n",
              "98      1305195\n",
              "Name: BoxOffice, Length: 94, dtype: object"
            ]
          },
          "metadata": {},
          "execution_count": 79
        }
      ]
    },
    {
      "cell_type": "code",
      "source": [
        "Movies[\"BoxOffice\"]=Movies[\"BoxOffice\"].astype(int)\n",
        "Movies[\"Metascore\"]=Movies[\"Metascore\"].apply(lambda x:str(x.split()[0].replace('N/A',\"0\")))\n",
        "Movies[\"Metascore\"]=Movies[\"Metascore\"].astype(int)\n",
        "Movies[\"imdbRating\"]=Movies[\"imdbRating\"].apply(lambda x:str(x.split()[0].replace('N/A',\"0\")))\n",
        "Movies[\"imdbRating\"]=Movies[\"imdbRating\"].astype(float)\n",
        "Movies[\"imdbVotes\"]=Movies[\"imdbVotes\"].apply(lambda x:str(x.split()[0].replace('N/A',\"0\")))\n",
        "Movies[\"imdbVotes\"]=Movies[\"imdbVotes\"].apply(lambda x:str(x.replace(',',\"\")))\n",
        "Movies[\"imdbVotes\"]=Movies[\"imdbVotes\"].astype(int)"
      ],
      "metadata": {
        "id": "NSnRCF691lb5"
      },
      "execution_count": null,
      "outputs": []
    },
    {
      "cell_type": "code",
      "source": [
        "Movies[\"BoxOffice\"]"
      ],
      "metadata": {
        "id": "1RsJQjEpux-y"
      },
      "execution_count": null,
      "outputs": []
    },
    {
      "cell_type": "code",
      "source": [],
      "metadata": {
        "id": "evA8EFA5ZF6O"
      },
      "execution_count": null,
      "outputs": []
    },
    {
      "cell_type": "code",
      "source": [
        "fact_table=Movies[[\"imdbID\" ,\"Runtime\",\"BoxOffice\",\"imdbVotes\",\"imdbRating\",\"Metascore\"]]\n",
        "fact_table[\"Movie_ID\"]=fact_table[\"imdbID\"]\n",
        "fact_table=fact_table.drop(['imdbID'],axis=1)\n",
        "fact_table = pd.DataFrame(fact_table)\n",
        "fact_table.to_csv(\"Fact_table.csv\")"
      ],
      "metadata": {
        "id": "6upwUBYG3jZw",
        "colab": {
          "base_uri": "https://localhost:8080/"
        },
        "outputId": "ff61b8c9-6a94-42ee-c540-da5e4d3c431c"
      },
      "execution_count": null,
      "outputs": [
        {
          "output_type": "stream",
          "name": "stderr",
          "text": [
            "<ipython-input-82-e217ec8eab12>:2: SettingWithCopyWarning: \n",
            "A value is trying to be set on a copy of a slice from a DataFrame.\n",
            "Try using .loc[row_indexer,col_indexer] = value instead\n",
            "\n",
            "See the caveats in the documentation: https://pandas.pydata.org/pandas-docs/stable/user_guide/indexing.html#returning-a-view-versus-a-copy\n",
            "  fact_table[\"Movie_ID\"]=fact_table[\"imdbID\"]\n"
          ]
        }
      ]
    },
    {
      "cell_type": "code",
      "source": [
        "release_date=Movies[[\"imdbID\" ,\"day\",\"month\",\"year\"]]\n",
        "release_date[\"Movie_ID\"]=release_date[\"imdbID\"]\n",
        "release_date=release_date.drop(['imdbID'],axis=1)\n",
        "release_date = pd.DataFrame(release_date)\n",
        "release_date.to_csv(\"release_date.csv\")"
      ],
      "metadata": {
        "id": "lHUgHjAR6Qta",
        "colab": {
          "base_uri": "https://localhost:8080/"
        },
        "outputId": "04a1e536-021d-4745-b3f0-59c26cb03fa7"
      },
      "execution_count": null,
      "outputs": [
        {
          "output_type": "stream",
          "name": "stderr",
          "text": [
            "<ipython-input-83-31d671fd7747>:2: SettingWithCopyWarning: \n",
            "A value is trying to be set on a copy of a slice from a DataFrame.\n",
            "Try using .loc[row_indexer,col_indexer] = value instead\n",
            "\n",
            "See the caveats in the documentation: https://pandas.pydata.org/pandas-docs/stable/user_guide/indexing.html#returning-a-view-versus-a-copy\n",
            "  release_date[\"Movie_ID\"]=release_date[\"imdbID\"]\n"
          ]
        }
      ]
    },
    {
      "cell_type": "code",
      "source": [
        "movie_details=Movies[[\"imdbID\" ,\"Title\",\"Plot\",\"Rated\"]]\n",
        "movie_details[\"Movie_ID\"]=movie_details[\"imdbID\"]\n",
        "movie_details=movie_details.drop(['imdbID'],axis=1)\n",
        "movie_details = pd.DataFrame(movie_details)\n",
        "movie_details.to_csv(\"Movie_details.csv\")"
      ],
      "metadata": {
        "id": "3Nf7lsEU6qHV",
        "colab": {
          "base_uri": "https://localhost:8080/"
        },
        "outputId": "05a4f988-ce80-412a-cfdb-87f33a2fffce"
      },
      "execution_count": null,
      "outputs": [
        {
          "output_type": "stream",
          "name": "stderr",
          "text": [
            "<ipython-input-84-be9d713543f5>:2: SettingWithCopyWarning: \n",
            "A value is trying to be set on a copy of a slice from a DataFrame.\n",
            "Try using .loc[row_indexer,col_indexer] = value instead\n",
            "\n",
            "See the caveats in the documentation: https://pandas.pydata.org/pandas-docs/stable/user_guide/indexing.html#returning-a-view-versus-a-copy\n",
            "  movie_details[\"Movie_ID\"]=movie_details[\"imdbID\"]\n"
          ]
        }
      ]
    },
    {
      "cell_type": "code",
      "source": [
        "Movies[\"Genre\"] = Movies[\"Genre\"].apply(lambda x: x.replace(\" \",\"\").split(\",\"))"
      ],
      "metadata": {
        "id": "hEdb98qR9fqP"
      },
      "execution_count": null,
      "outputs": []
    },
    {
      "cell_type": "code",
      "source": [
        "all_genre = []\n",
        "Movies[\"Genre\"].apply(lambda x: all_genre.extend(x))\n",
        "distinct_genre = list(set(all_genre))\n",
        "distinct_genre"
      ],
      "metadata": {
        "id": "BPgdIxqq89k_",
        "colab": {
          "base_uri": "https://localhost:8080/"
        },
        "outputId": "44fdec39-f5dc-4525-98cc-7c10698e8a4f"
      },
      "execution_count": null,
      "outputs": [
        {
          "output_type": "execute_result",
          "data": {
            "text/plain": [
              "['Drama',\n",
              " 'Action',\n",
              " 'Romance',\n",
              " 'Comedy',\n",
              " 'Biography',\n",
              " 'Sci-Fi',\n",
              " 'Family',\n",
              " 'Thriller',\n",
              " 'History',\n",
              " 'Crime',\n",
              " 'Fantasy',\n",
              " 'Music',\n",
              " 'Adventure',\n",
              " 'Mystery',\n",
              " 'Horror',\n",
              " 'War',\n",
              " 'Animation']"
            ]
          },
          "metadata": {},
          "execution_count": 86
        }
      ]
    },
    {
      "cell_type": "code",
      "source": [
        "genres = []\n",
        "for i in range(len(distinct_genre)):\n",
        "  genres.append({\"Genre_ID\":i+1,\"Genre_Name\":distinct_genre[i]})\n",
        "genres = pd.DataFrame(genres)\n",
        "genres\n",
        "genres.to_csv(\"Genres.csv\")"
      ],
      "metadata": {
        "id": "A5kzJQKi92Er"
      },
      "execution_count": null,
      "outputs": []
    },
    {
      "cell_type": "code",
      "source": [
        "idG = genres.Genre_ID\n",
        "nameG = genres.Genre_Name\n",
        "dicG =zip( nameG , idG)\n",
        "finalG= dict(dicG)\n",
        "nwG =[]\n",
        "for i , row in Movies.iterrows() :\n",
        "  mid = row[\"imdbID\"]\n",
        "  langG = str(row['Genre']).replace(\" \" , \"\").replace(\"]\",\"\").replace(\"[\",\"\").replace(\"'\",\"\").split(',')\n",
        "  for l in langG :\n",
        "    nwG.append({\"Movie_ID\": mid , \"GenreID\" : finalG[l]})\n",
        "movie_Genre =pd.DataFrame(nwG)\n",
        "movie_Genre.to_csv(\"Movie_Genre.csv\")"
      ],
      "metadata": {
        "id": "s05KpyfKnKsM"
      },
      "execution_count": null,
      "outputs": []
    },
    {
      "cell_type": "code",
      "source": [
        "Movies[\"Country\"] = Movies[\"Country\"].apply(lambda x: x.replace(\" \",\"\").split(\",\"))\n",
        "\n",
        "all_Country = []\n",
        "Movies[\"Country\"].apply(lambda x: all_Country.extend(x))\n",
        "distinct_Country = list(set(all_Country))\n",
        "\n",
        "Countries = []\n",
        "for i in range(len(distinct_Country)):\n",
        "  Countries.append({\"Country_ID\":i+1,\"Country_Name\":distinct_Country[i]})\n",
        "Countries = pd.DataFrame(Countries)\n",
        "Countries.to_csv(\"Countries.csv\")"
      ],
      "metadata": {
        "id": "ztoT8nqWE8U8"
      },
      "execution_count": null,
      "outputs": []
    },
    {
      "cell_type": "code",
      "source": [
        "idC = Countries.Country_ID\n",
        "nameC = Countries.Country_Name\n",
        "dicC =zip( nameC , idC)\n",
        "finalC= dict(dicC)\n",
        "nwC =[]\n",
        "for i , row in Movies.iterrows() :\n",
        "  mid = row[\"imdbID\"]\n",
        "  langC = str(row['Country']).replace(\" \" , \"\").replace(\"]\",\"\").replace(\"[\",\"\").replace(\"'\",\"\").split(',')\n",
        "  for l in langC :\n",
        "    nwC.append({\"Movie_ID\": mid , \"CountryID\" : finalC[l]})\n",
        "movie_Country =pd.DataFrame(nwC)\n",
        "movie_Country.to_csv(\"Movie_Country.csv\")"
      ],
      "metadata": {
        "id": "b3YXh4vpoQdR"
      },
      "execution_count": null,
      "outputs": []
    },
    {
      "cell_type": "code",
      "source": [
        "Movies[\"Language\"] = Movies[\"Language\"].apply(lambda x: x.replace(\" \",\"\").split(\",\"))\n",
        "\n",
        "all_Language = []\n",
        "Movies[\"Language\"].apply(lambda x: all_Language.extend(x))\n",
        "distinct_Language = list(set(all_Language))\n",
        "\n",
        "Languages = []\n",
        "for i in range(len(distinct_Language)):\n",
        "  Languages.append({\"Language_ID\":i+1,\"Language_Name\":distinct_Language[i]})\n",
        "Languages = pd.DataFrame(Languages)\n",
        "Languages.to_csv(\"Languages.csv\")"
      ],
      "metadata": {
        "id": "kBb9cuX2F-GF"
      },
      "execution_count": null,
      "outputs": []
    },
    {
      "cell_type": "code",
      "source": [
        "idL =Languages.Language_ID\n",
        "nameL = Languages.Language_Name\n",
        "dicL =zip( nameL , idL)\n",
        "finalL= dict(dicL)"
      ],
      "metadata": {
        "id": "CaAAo78VPDVm"
      },
      "execution_count": null,
      "outputs": []
    },
    {
      "cell_type": "code",
      "source": [
        "nwL =[]\n",
        "for i , row in Movies.iterrows() :\n",
        "  mid = row[\"imdbID\"]\n",
        "  langL = str(row['Language']).replace(\" \" , \"\").replace(\"]\",\"\").replace(\"[\",\"\").replace(\"'\",\"\").split(',')\n",
        "  for l in langL :\n",
        "    nwL.append({\"Movie_ID\": mid , \"Language_ID\" : finalL[l]})\n",
        "movie_Language =pd.DataFrame(nwL)\n",
        "movie_Language.to_csv(\"Movie_Language.csv\")"
      ],
      "metadata": {
        "id": "Wx8vdF_cJVP2"
      },
      "execution_count": null,
      "outputs": []
    },
    {
      "cell_type": "code",
      "source": [
        "Movies[\"Director\"] = Movies[\"Director\"].apply(lambda x: x.replace(\" \",\"\").split(\",\"))\n",
        "\n",
        "all_Director = []\n",
        "Movies[\"Director\"].apply(lambda x: all_Director.extend(x))\n",
        "distinct_Director = list(set(all_Director))\n",
        "\n",
        "Directors = []\n",
        "for i in range(len(distinct_Director)):\n",
        "  Directors.append({\"Director_ID\":i+1,\"Director_Name\":distinct_Director[i]})\n",
        "Directors = pd.DataFrame(Directors)\n",
        "Directors.to_csv(\"Directors.csv\")"
      ],
      "metadata": {
        "id": "pKIZUx69rnJs"
      },
      "execution_count": null,
      "outputs": []
    },
    {
      "cell_type": "code",
      "source": [
        "idD = Directors.Director_ID\n",
        "nameD = Directors.Director_Name\n",
        "dicD =zip( nameD , idD)\n",
        "finalD= dict(dicD)\n",
        "nwD =[]\n",
        "for i , row in Movies.iterrows() :\n",
        "  mid = row[\"imdbID\"]\n",
        "  langD = str(row['Director']).replace('\"',\"\").replace(\"'\",\"\").replace(\" \",\"\").replace(\"]\",\"\").replace(\"[\",\"\").replace(\"GavinOConnor\",\"GavinO'Connor\").split(',')\n",
        "  for l in langD :\n",
        "    nwD.append({\"Movie_ID\": mid , \"Director_ID\" : finalD[l]})\n",
        "Movie_Director =pd.DataFrame(nwD)\n",
        "Movie_Director.to_csv(\"Movie_Director.csv\")"
      ],
      "metadata": {
        "id": "Q-KagTFtqXAU"
      },
      "execution_count": null,
      "outputs": []
    },
    {
      "cell_type": "code",
      "source": [
        "Movies[\"Writer\"] = Movies[\"Writer\"].apply(lambda x: x.replace(\" \",\"\").split(\",\"))\n",
        "\n",
        "all_Writers = []\n",
        "Movies[\"Writer\"].apply(lambda x: all_Writers.extend(x))\n",
        "distinct_Writers = list(set(all_Writers))\n",
        "\n",
        "Writers = []\n",
        "for i in range(len(distinct_Writers)):\n",
        "  Writers.append({\"Writer_ID\":i+1,\"Writer_Name\":distinct_Writers[i]})\n",
        "Writers = pd.DataFrame(Writers)\n",
        "Writers.to_csv(\"Writers.csv\")"
      ],
      "metadata": {
        "id": "1R6eRe4AmMvL"
      },
      "execution_count": null,
      "outputs": []
    },
    {
      "cell_type": "code",
      "source": [
        "idW =Writers.Writer_ID\n",
        "nameW = Writers.Writer_Name\n",
        "\n",
        "dicW =zip( nameW , idW)\n",
        "\n",
        "finalW= dict(dicW)"
      ],
      "metadata": {
        "id": "qBCfGoEEN-gh"
      },
      "execution_count": null,
      "outputs": []
    },
    {
      "cell_type": "code",
      "source": [
        "nwW =[]\n",
        "for i , row in Movies.iterrows() :\n",
        "  mid = row[\"imdbID\"]\n",
        "  langW = str(row['Writer']).replace('\"',\"\").replace(\"'\",\"\").replace(\" \",\"\").replace(\"]\",\"\").replace(\"[\",\"\").replace(\"DanOBannon\",\"DanO'Bannon\").split(',')\n",
        "  for l in langW :\n",
        "    nwW.append({\"Movie_ID\": mid , \"Writer_ID\" : finalW[l]})\n",
        "movie_Writer =pd.DataFrame(nwW)\n",
        "movie_Writer.to_csv(\"Movie_Writer.csv\")"
      ],
      "metadata": {
        "id": "BljCbHBTOLgC"
      },
      "execution_count": null,
      "outputs": []
    },
    {
      "cell_type": "code",
      "source": [
        "Movies[\"Actors\"] = Movies[\"Actors\"].apply(lambda x: x.replace(\" \",\"\").split(\",\"))\n",
        "\n",
        "all_Actors = []\n",
        "Movies[\"Actors\"].apply(lambda x: all_Actors.extend(x))\n",
        "distinct_Actors = list(set(all_Actors))\n",
        "\n",
        "Actors = []\n",
        "for i in range(len(distinct_Actors)):\n",
        "  Actors.append({\"Actors_ID\":i+1,\"Actors_Name\":distinct_Actors[i]})\n",
        "Actors = pd.DataFrame(Actors)\n",
        "Actors.to_csv(\"Actors.csv\")"
      ],
      "metadata": {
        "id": "JPuVcdGkrjDk"
      },
      "execution_count": null,
      "outputs": []
    },
    {
      "cell_type": "code",
      "source": [
        "idA = Actors.Actors_ID\n",
        "nameA = Actors.Actors_Name\n",
        "dicA =zip( nameA , idA)\n",
        "finalA= dict(dicA)\n",
        "nwA =[]\n",
        "for i , row in Movies.iterrows() :\n",
        "  mid = row[\"imdbID\"]\n",
        "  langA = str(row['Actors']).replace('\"',\"\").replace(\"'\",\"\").replace(\" \",\"\").replace(\"]\",\"\").replace(\"[\",\"\").replace(\"AuliiCravalho\",\"Auli'iCravalho\").split(',')\n",
        "  for l in langA :\n",
        "    nwA.append({\"Movie_ID\": mid , \"Actors_ID\" : finalA[l]})\n",
        "Movie_Director =pd.DataFrame(nwA)\n",
        "Movie_Director.to_csv(\"Movie_Actors.csv\")"
      ],
      "metadata": {
        "id": "MjoerzJHZGrS"
      },
      "execution_count": null,
      "outputs": []
    }
  ]
}